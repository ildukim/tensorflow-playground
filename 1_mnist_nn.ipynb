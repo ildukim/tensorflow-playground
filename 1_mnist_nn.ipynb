{
 "cells": [
  {
   "cell_type": "code",
   "execution_count": 1,
   "metadata": {},
   "outputs": [],
   "source": [
    "import numpy as np\n",
    "import tensorflow as tf\n",
    "from my_utils import load_mnist_data\n",
    "from matplotlib import pyplot as plt\n",
    "from time import time"
   ]
  },
  {
   "cell_type": "code",
   "execution_count": 2,
   "metadata": {},
   "outputs": [],
   "source": [
    "train_images, train_labels, test_images, test_labels = load_mnist_data()"
   ]
  },
  {
   "cell_type": "code",
   "execution_count": 3,
   "metadata": {},
   "outputs": [
    {
     "name": "stdout",
     "output_type": "stream",
     "text": [
      "(60000, 784)\n",
      "(60000, 10)\n",
      "(10000, 784)\n",
      "(10000, 10)\n"
     ]
    }
   ],
   "source": [
    "print(train_images.shape)\n",
    "print(train_labels.shape)\n",
    "print(test_images.shape)\n",
    "print(test_labels.shape)"
   ]
  },
  {
   "cell_type": "code",
   "execution_count": 4,
   "metadata": {},
   "outputs": [
    {
     "name": "stdout",
     "output_type": "stream",
     "text": [
      "0.9139999747276306%\n",
      "it tooks 14.618759870529175 sec\n"
     ]
    }
   ],
   "source": [
    "learning_rate = 1e-1\n",
    "loss_history = []\n",
    "\n",
    "x = tf.placeholder(tf.float32, [None, 784])\n",
    "W = tf.Variable(tf.zeros([784, 10]))\n",
    "b = tf.Variable(tf.zeros([10]))\n",
    "y = tf.placeholder(tf.float32, [None, 10])\n",
    "\n",
    "y_ = tf.matmul(x, W) + b\n",
    "\n",
    "loss = tf.reduce_mean(tf.nn.softmax_cross_entropy_with_logits(labels=y, logits=y_))\n",
    "train_step = tf.train.AdamOptimizer(learning_rate).minimize(loss)\n",
    "\n",
    "start = time()\n",
    "# <--\n",
    "with tf.Session() as sess:\n",
    "    sess.run(tf.global_variables_initializer())\n",
    "\n",
    "    for i in range(50):\n",
    "        loss_val, _ = sess.run([loss, train_step], feed_dict={x: train_images, y: train_labels})\n",
    "        loss_history.append(loss_val)\n",
    "    # -->    \n",
    "    finish = time()\n",
    "    \n",
    "    correct_prediction = tf.equal(tf.argmax(y, 1), tf.argmax(y_, 1))\n",
    "    accuracy = tf.reduce_mean(tf.cast(correct_prediction, tf.float32))\n",
    "    accuracy_val = sess.run(accuracy, feed_dict={x: test_images, y: test_labels})\n",
    "    print(f'{accuracy_val}%')\n",
    "\n",
    "print(f'it tooks {finish - start} sec')\n",
    "plt.plot(loss_history, label='loss')\n",
    "plt.legend()\n",
    "plt.draw()"
   ]
  },
  {
   "cell_type": "code",
   "execution_count": 5,
   "metadata": {},
   "outputs": [
    {
     "name": "stdout",
     "output_type": "stream",
     "text": [
      "0.8633000254631042%\n",
      "it tooks 0.17219901084899902 sec\n"
     ]
    }
   ],
   "source": [
    "learning_rate = 1e-1\n",
    "loss_history = []\n",
    "m = 60000\n",
    "mini_batch_size = 128\n",
    "\n",
    "x = tf.placeholder(tf.float32, [None, 784])\n",
    "W = tf.Variable(tf.zeros([784, 10]))\n",
    "b = tf.Variable(tf.zeros([10]))\n",
    "y = tf.placeholder(tf.float32, [None, 10])\n",
    "\n",
    "y_ = tf.matmul(x, W) + b\n",
    "\n",
    "loss = tf.reduce_mean(tf.nn.softmax_cross_entropy_with_logits(labels=y, logits=y_))\n",
    "train_step = tf.train.AdamOptimizer(learning_rate).minimize(loss)\n",
    "\n",
    "start = time()\n",
    "# <--\n",
    "with tf.Session() as sess:\n",
    "    sess.run(tf.global_variables_initializer())\n",
    "\n",
    "    for i in range(50):\n",
    "        rand_indicies = np.random.choice(m, mini_batch_size, replace=True)\n",
    "        x_batch = train_images[rand_indicies, :]\n",
    "        y_batch = train_labels[rand_indicies, :]\n",
    "\n",
    "        loss_val, _ = sess.run([loss, train_step], feed_dict={x: x_batch, y: y_batch})\n",
    "        loss_history.append(loss_val)\n",
    "    # -->    \n",
    "    finish = time()\n",
    "    \n",
    "    correct_prediction = tf.equal(tf.argmax(y, 1), tf.argmax(y_, 1))\n",
    "    accuracy = tf.reduce_mean(tf.cast(correct_prediction, tf.float32))\n",
    "    accuracy_val = sess.run(accuracy, feed_dict={x: test_images, y: test_labels})\n",
    "    print(f'{accuracy_val}%')\n",
    "\n",
    "print(f'it tooks {finish - start} sec')\n",
    "plt.plot(loss_history, label='loss')\n",
    "plt.legend()\n",
    "plt.draw()"
   ]
  },
  {
   "cell_type": "code",
   "execution_count": 9,
   "metadata": {},
   "outputs": [
    {
     "name": "stdout",
     "output_type": "stream",
     "text": [
      "0.965399980545044%\n",
      "it tooks 42.58586382865906 sec\n"
     ]
    }
   ],
   "source": [
    "learning_rate = 1e-3\n",
    "loss_history = []\n",
    "m = 60000\n",
    "epoch = 10\n",
    "mini_batch_size = 128\n",
    "\n",
    "tf.reset_default_graph()\n",
    "\n",
    "x = tf.placeholder(tf.float32, [None, 784], name='x')\n",
    "h1 = tf.layers.dense(inputs=x, units=256, activation=tf.nn.relu, use_bias=True, name='h1')\n",
    "h2 = tf.layers.dense(inputs=h1, units=256, activation=tf.nn.relu, use_bias=True, name='h2')\n",
    "y_ = tf.layers.dense(inputs=h2, units=10, activation=None, use_bias=True, name='y_')\n",
    "y = tf.placeholder(tf.float32, [None, 10], name='y')\n",
    "\n",
    "loss = tf.reduce_mean(tf.nn.softmax_cross_entropy_with_logits(labels=y, logits=y_))\n",
    "train_step = tf.train.AdamOptimizer(learning_rate).minimize(loss)\n",
    "\n",
    "start = time()\n",
    "# <--\n",
    "with tf.Session() as sess:\n",
    "    sess.run(tf.global_variables_initializer())\n",
    "    indices = np.arange(0, m)\n",
    "    \n",
    "    for i in range(epoch):\n",
    "        np.random.shuffle(indices)\n",
    "        xs = train_images[indices, :]\n",
    "        ys = train_labels[indices, :]\n",
    "        \n",
    "        for j in range(m // mini_batch_size):\n",
    "            batch_xs = xs[j * mini_batch_size : (j+1) * mini_batch_size, :]\n",
    "            batch_ys = ys[j * mini_batch_size : (j+1) * mini_batch_size, :]\n",
    "            loss_val, _ = sess.run([loss, train_step], feed_dict={x: batch_xs, y: batch_ys})\n",
    "            loss_history.append(loss_val)\n",
    "\n",
    "    saver = tf.train.Saver()\n",
    "    saver.save(sess, './models/mnist_nn')\n",
    "    # -->    \n",
    "    finish = time()\n",
    "    \n",
    "    correct_prediction = tf.equal(tf.argmax(y, 1), tf.argmax(y_, 1))\n",
    "    accuracy = tf.reduce_mean(tf.cast(correct_prediction, tf.float32))\n",
    "    accuracy_val = sess.run(accuracy, feed_dict={x: test_images, y: test_labels})\n",
    "    print(f'{accuracy_val}%')\n",
    "\n",
    "print(f'it tooks {finish - start} sec')\n",
    "plt.plot(loss_history, label='loss')\n",
    "plt.legend()\n",
    "plt.draw()"
   ]
  },
  {
   "cell_type": "code",
   "execution_count": null,
   "metadata": {},
   "outputs": [],
   "source": []
  }
 ],
 "metadata": {
  "kernelspec": {
   "display_name": "Python 3",
   "language": "python",
   "name": "python3"
  },
  "language_info": {
   "codemirror_mode": {
    "name": "ipython",
    "version": 3
   },
   "file_extension": ".py",
   "mimetype": "text/x-python",
   "name": "python",
   "nbconvert_exporter": "python",
   "pygments_lexer": "ipython3",
   "version": "3.6.2"
  }
 },
 "nbformat": 4,
 "nbformat_minor": 2
}

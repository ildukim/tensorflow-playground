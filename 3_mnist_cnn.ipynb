{
 "cells": [
  {
   "cell_type": "code",
   "execution_count": 1,
   "metadata": {},
   "outputs": [],
   "source": [
    "import numpy as np\n",
    "import tensorflow as tf\n",
    "from my_utils import load_mnist_data\n",
    "from matplotlib import pyplot as plt\n",
    "from time import time"
   ]
  },
  {
   "cell_type": "code",
   "execution_count": 2,
   "metadata": {},
   "outputs": [],
   "source": [
    "train_images, train_labels, test_images, test_labels = load_mnist_data()"
   ]
  },
  {
   "cell_type": "code",
   "execution_count": 3,
   "metadata": {},
   "outputs": [
    {
     "name": "stdout",
     "output_type": "stream",
     "text": [
      "(60000, 784)\n",
      "(60000, 10)\n",
      "(10000, 784)\n",
      "(10000, 10)\n"
     ]
    }
   ],
   "source": [
    "print(train_images.shape)\n",
    "print(train_labels.shape)\n",
    "print(test_images.shape)\n",
    "print(test_labels.shape)"
   ]
  },
  {
   "cell_type": "code",
   "execution_count": 4,
   "metadata": {},
   "outputs": [],
   "source": [
    "tf.reset_default_graph()\n",
    "\n",
    "x = tf.placeholder(tf.float32, [None, 28, 28, 1])"
   ]
  },
  {
   "cell_type": "code",
   "execution_count": 5,
   "metadata": {},
   "outputs": [],
   "source": [
    "W1 = tf.Variable(tf.random_normal([3, 3, 1, 32], stddev=0.01))\n",
    "L1 = tf.nn.conv2d(x, W1, strides=[1, 1, 1, 1], padding='SAME')\n",
    "L1 = tf.nn.relu(L1)\n",
    "L1 = tf.nn.max_pool(L1, ksize=[1, 2, 2, 1], strides=[1, 2, 2, 1], padding='SAME')"
   ]
  },
  {
   "cell_type": "code",
   "execution_count": 6,
   "metadata": {},
   "outputs": [],
   "source": [
    "W2 = tf.Variable(tf.random_normal([3, 3, 32, 64], stddev=0.01))\n",
    "L2 = tf.nn.conv2d(L1, W2, strides=[1, 1, 1, 1], padding='SAME')\n",
    "L2 = tf.nn.relu(L2)\n",
    "L2 = tf.nn.max_pool(L2, ksize=[1, 2, 2, 1], strides=[1, 2, 2, 1], padding='SAME')"
   ]
  },
  {
   "cell_type": "code",
   "execution_count": 7,
   "metadata": {},
   "outputs": [],
   "source": [
    "L3 = tf.layers.dense(tf.reshape(L2, [-1, 7 * 7 * 64]), units=256, activation=tf.nn.relu, kernel_initializer=tf.contrib.layers.xavier_initializer())"
   ]
  },
  {
   "cell_type": "code",
   "execution_count": 8,
   "metadata": {},
   "outputs": [],
   "source": [
    "y_ = tf.layers.dense(L3, units=10, activation=None, kernel_initializer=tf.contrib.layers.xavier_initializer())"
   ]
  },
  {
   "cell_type": "code",
   "execution_count": 9,
   "metadata": {},
   "outputs": [
    {
     "name": "stdout",
     "output_type": "stream",
     "text": [
      "0.9884999990463257%\n",
      "it tooks 351.1719272136688 sec\n"
     ]
    }
   ],
   "source": [
    "learning_rate = 1e-3\n",
    "loss_history = []\n",
    "m = 60000\n",
    "epoch = 5\n",
    "mini_batch_size = 128\n",
    "\n",
    "y = tf.placeholder(tf.float32, [None, 10])\n",
    "\n",
    "loss = tf.reduce_mean(tf.nn.softmax_cross_entropy_with_logits(labels=y, logits=y_))\n",
    "train_step = tf.train.AdamOptimizer(learning_rate).minimize(loss)\n",
    "\n",
    "start = time()\n",
    "# <--\n",
    "with tf.Session() as sess:\n",
    "    sess.run(tf.global_variables_initializer())\n",
    "    indices = np.arange(0, m)\n",
    "    \n",
    "    for i in range(epoch):\n",
    "        np.random.shuffle(indices)\n",
    "        xs = train_images[indices, :]\n",
    "        ys = train_labels[indices, :]\n",
    "        \n",
    "        for j in range(m // mini_batch_size):\n",
    "            batch_xs = xs[j * mini_batch_size : (j+1) * mini_batch_size, :].reshape(-1, 28, 28, 1)\n",
    "            batch_ys = ys[j * mini_batch_size : (j+1) * mini_batch_size, :]\n",
    "            loss_val, _ = sess.run([loss, train_step], feed_dict={x: batch_xs, y: batch_ys})\n",
    "            loss_history.append(loss_val)\n",
    "    # -->    \n",
    "    finish = time()\n",
    "    \n",
    "    correct_prediction = tf.equal(tf.argmax(y, 1), tf.argmax(y_, 1))\n",
    "    accuracy = tf.reduce_mean(tf.cast(correct_prediction, tf.float32))\n",
    "    accuracy_val = sess.run(accuracy, feed_dict={x: test_images.reshape(-1, 28, 28, 1), y: test_labels})\n",
    "    print(f'{accuracy_val}%')\n",
    "\n",
    "print(f'it tooks {finish - start} sec')\n",
    "plt.plot(loss_history, label='loss')\n",
    "plt.legend()\n",
    "plt.draw()"
   ]
  },
  {
   "cell_type": "code",
   "execution_count": 10,
   "metadata": {},
   "outputs": [],
   "source": [
    "tf.reset_default_graph()\n",
    "\n",
    "x = tf.placeholder(tf.float32, [None, 28, 28, 1])"
   ]
  },
  {
   "cell_type": "code",
   "execution_count": 11,
   "metadata": {},
   "outputs": [],
   "source": [
    "L1 = tf.layers.conv2d(x, 32, [3, 3], padding='SAME', activation=tf.nn.relu)\n",
    "L1 = tf.layers.max_pooling2d(L1, [2, 2], [2, 2])"
   ]
  },
  {
   "cell_type": "code",
   "execution_count": 12,
   "metadata": {},
   "outputs": [],
   "source": [
    "L2 = tf.layers.conv2d(L1, 64, [3, 3], padding='SAME', activation=tf.nn.relu)\n",
    "L2 = tf.layers.max_pooling2d(L2, [2, 2], [2, 2])"
   ]
  },
  {
   "cell_type": "code",
   "execution_count": 13,
   "metadata": {},
   "outputs": [],
   "source": [
    "L3 = tf.layers.dense(tf.reshape(L2, [-1, 7 * 7 * 64]), units=256, activation=tf.nn.relu)"
   ]
  },
  {
   "cell_type": "code",
   "execution_count": 14,
   "metadata": {},
   "outputs": [],
   "source": [
    "y_ = tf.layers.dense(L3, units=10, activation=None)"
   ]
  },
  {
   "cell_type": "code",
   "execution_count": 15,
   "metadata": {},
   "outputs": [
    {
     "name": "stdout",
     "output_type": "stream",
     "text": [
      "0.9858999848365784%\n",
      "it tooks 398.36351895332336 sec\n"
     ]
    }
   ],
   "source": [
    "learning_rate = 1e-3\n",
    "loss_history = []\n",
    "m = 60000\n",
    "epoch = 5\n",
    "mini_batch_size = 128\n",
    "\n",
    "y = tf.placeholder(tf.float32, [None, 10])\n",
    "\n",
    "loss = tf.reduce_mean(tf.nn.softmax_cross_entropy_with_logits(labels=y, logits=y_))\n",
    "train_step = tf.train.AdamOptimizer(learning_rate).minimize(loss)\n",
    "\n",
    "start = time()\n",
    "# <--\n",
    "with tf.Session() as sess:\n",
    "    sess.run(tf.global_variables_initializer())\n",
    "    indices = np.arange(0, m)\n",
    "    \n",
    "    for i in range(epoch):\n",
    "        np.random.shuffle(indices)\n",
    "        xs = train_images[indices, :]\n",
    "        ys = train_labels[indices, :]\n",
    "        \n",
    "        for j in range(m // mini_batch_size):\n",
    "            batch_xs = xs[j * mini_batch_size : (j+1) * mini_batch_size, :].reshape(-1, 28, 28, 1)\n",
    "            batch_ys = ys[j * mini_batch_size : (j+1) * mini_batch_size, :]\n",
    "            loss_val, _ = sess.run([loss, train_step], feed_dict={x: batch_xs, y: batch_ys})\n",
    "            loss_history.append(loss_val)\n",
    "            \n",
    "    saver = tf.train.Saver()\n",
    "    saver.save(sess, './models/mnist_cnn')\n",
    "    # -->    \n",
    "    finish = time()\n",
    "    \n",
    "    correct_prediction = tf.equal(tf.argmax(y, 1), tf.argmax(y_, 1))\n",
    "    accuracy = tf.reduce_mean(tf.cast(correct_prediction, tf.float32))\n",
    "    accuracy_val = sess.run(accuracy, feed_dict={x: test_images.reshape(-1, 28, 28, 1), y: test_labels})\n",
    "    print(f'{accuracy_val}%')\n",
    "\n",
    "print(f'it tooks {finish - start} sec')\n",
    "plt.plot(loss_history, label='loss')\n",
    "plt.legend()\n",
    "plt.draw()"
   ]
  },
  {
   "cell_type": "code",
   "execution_count": null,
   "metadata": {},
   "outputs": [],
   "source": []
  }
 ],
 "metadata": {
  "kernelspec": {
   "display_name": "Python 3",
   "language": "python",
   "name": "python3"
  },
  "language_info": {
   "codemirror_mode": {
    "name": "ipython",
    "version": 3
   },
   "file_extension": ".py",
   "mimetype": "text/x-python",
   "name": "python",
   "nbconvert_exporter": "python",
   "pygments_lexer": "ipython3",
   "version": "3.6.2"
  }
 },
 "nbformat": 4,
 "nbformat_minor": 2
}
